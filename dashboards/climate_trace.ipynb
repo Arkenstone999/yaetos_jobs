{
 "cells": [
  {
   "cell_type": "markdown",
   "id": "3c24388d",
   "metadata": {},
   "source": [
    "## Dashboard Climate-Trace \n",
    "\n",
    "Showing plots about climate-trace data."
   ]
  },
  {
   "cell_type": "code",
   "execution_count": 1,
   "id": "8495804b",
   "metadata": {},
   "outputs": [
    {
     "name": "stderr",
     "output_type": "stream",
     "text": [
      "|13:43:14:INFO:Job|Path to library file (to know if running from yaetos lib or git repo): /Users/aprevot/Synced/github/code/code_perso/yaetos/yaetos/etl_utils.py\n",
      "|13:43:14:INFO:Job|Job args: \n",
      "{'add_created_at': 'true',\n",
      " 'aws_config_file': 'none',\n",
      " 'aws_setup': 'dev',\n",
      " 'base_path': '{root_path}/data',\n",
      " 'chain_dependencies': False,\n",
      " 'code_source': 'lib',\n",
      " 'connection_file': 'conf/connections.cfg',\n",
      " 'dependencies': False,\n",
      " 'deploy': 'none',\n",
      " 'description': 'Dashboard to visualize climate_trace data.',\n",
      " 'email_cred_section': 'some_email_cred_section',\n",
      " 'enable_redshift_push': False,\n",
      " 'inputs': {'assets': {'df_type': 'pandas',\n",
      "                       'path': '{base_path}/climate_trace/assets_master_california/{latest}/dataset.csv',\n",
      "                       'type': 'csv'}},\n",
      " 'is_incremental': False,\n",
      " 'job_name': 'dashboards/climate_trace.ipynb',\n",
      " 'job_param_file': 'conf/jobs_metadata.yml',\n",
      " 'jobs_folder': 'jobs/',\n",
      " 'leave_on': False,\n",
      " 'load_connectors': 'none',\n",
      " 'manage_git_info': False,\n",
      " 'mode': 'dev_local',\n",
      " 'no_fw_cache': False,\n",
      " 'push_secrets': False,\n",
      " 'py_job': 'n/a',\n",
      " 'redshift_s3_tmp_dir': 's3a://dev-spark/tmp_spark/',\n",
      " 'rerun_criteria': 'last_date',\n",
      " 'root_path': '.',\n",
      " 's3_dags': '{root_path}/pipelines_metadata/airflow_dags',\n",
      " 's3_logs': '{root_path}/pipelines_metadata',\n",
      " 'save_schemas': True,\n",
      " 'schema': 'sandbox',\n",
      " 'spark_boot': True,\n",
      " 'spark_version': '3.4',\n",
      " 'sql_file': None,\n",
      " 'storage': 'local'}\n",
      "|13:43:14:INFO:Job|Input 'assets' to be loaded from files '{base_path}/climate_trace/assets_master_california/{latest}/dataset.csv'.\n",
      "|13:43:14:INFO:Job|Input 'assets' loaded from files './data/climate_trace/assets_master_california/date20240110_time235523_utc/dataset.csv'.\n",
      "|13:43:14:INFO:Job|Input 'assets' loaded.\n"
     ]
    },
    {
     "data": {
      "text/html": [
       "<div>\n",
       "<style scoped>\n",
       "    .dataframe tbody tr th:only-of-type {\n",
       "        vertical-align: middle;\n",
       "    }\n",
       "\n",
       "    .dataframe tbody tr th {\n",
       "        vertical-align: top;\n",
       "    }\n",
       "\n",
       "    .dataframe thead th {\n",
       "        text-align: right;\n",
       "    }\n",
       "</style>\n",
       "<table border=\"1\" class=\"dataframe\">\n",
       "  <thead>\n",
       "    <tr style=\"text-align: right;\">\n",
       "      <th></th>\n",
       "      <th>Unnamed: 0.1</th>\n",
       "      <th>Unnamed: 0</th>\n",
       "      <th>Id</th>\n",
       "      <th>Name</th>\n",
       "      <th>NativeId</th>\n",
       "      <th>Country</th>\n",
       "      <th>Sector</th>\n",
       "      <th>AssetType</th>\n",
       "      <th>ReportingEntity</th>\n",
       "      <th>Centroid</th>\n",
       "      <th>offset_batch</th>\n",
       "      <th>latitude</th>\n",
       "      <th>longitude</th>\n",
       "      <th>Thumbnail_post</th>\n",
       "      <th>co2</th>\n",
       "    </tr>\n",
       "  </thead>\n",
       "  <tbody>\n",
       "    <tr>\n",
       "      <th>5305</th>\n",
       "      <td>5305</td>\n",
       "      <td>46567</td>\n",
       "      <td>3265253</td>\n",
       "      <td>RICHVALE WWTF</td>\n",
       "      <td>USA01144</td>\n",
       "      <td>USA</td>\n",
       "      <td>wastewater-treatment-and-discharge</td>\n",
       "      <td>domestic centralized aerobic secondary</td>\n",
       "      <td>climate-trace</td>\n",
       "      <td>{'Geometry': array([-122.081,   39.386]), 'SRI...</td>\n",
       "      <td>46500</td>\n",
       "      <td>39.386000</td>\n",
       "      <td>-122.081000</td>\n",
       "      <td>https://api.mapbox.com/v4/mapbox.satellite/16/...</td>\n",
       "      <td>0.0</td>\n",
       "    </tr>\n",
       "    <tr>\n",
       "      <th>5306</th>\n",
       "      <td>5306</td>\n",
       "      <td>21012</td>\n",
       "      <td>25745436</td>\n",
       "      <td>USA_CA_dairy_1248</td>\n",
       "      <td>USA_CA_dairy_1248</td>\n",
       "      <td>USA</td>\n",
       "      <td>manure-management-cattle-feedlot</td>\n",
       "      <td>manure_management_dairy</td>\n",
       "      <td>climate-trace</td>\n",
       "      <td>{'Geometry': array([-119.71114531,   36.222698...</td>\n",
       "      <td>21000</td>\n",
       "      <td>36.222699</td>\n",
       "      <td>-119.711145</td>\n",
       "      <td>https://api.mapbox.com/v4/mapbox.satellite/16/...</td>\n",
       "      <td>0.0</td>\n",
       "    </tr>\n",
       "    <tr>\n",
       "      <th>5307</th>\n",
       "      <td>5307</td>\n",
       "      <td>24557</td>\n",
       "      <td>3160415</td>\n",
       "      <td>USA_CA_dairy_354</td>\n",
       "      <td>USA_CA_dairy_354</td>\n",
       "      <td>USA</td>\n",
       "      <td>enteric-fermentation-cattle-feedlot</td>\n",
       "      <td>dairy</td>\n",
       "      <td>climate-trace</td>\n",
       "      <td>{'Geometry': array([-121.018  ,   37.80671]), ...</td>\n",
       "      <td>24500</td>\n",
       "      <td>37.806710</td>\n",
       "      <td>-121.018000</td>\n",
       "      <td>https://api.mapbox.com/v4/mapbox.satellite/16/...</td>\n",
       "      <td>0.0</td>\n",
       "    </tr>\n",
       "    <tr>\n",
       "      <th>5308</th>\n",
       "      <td>5308</td>\n",
       "      <td>24670</td>\n",
       "      <td>3161537</td>\n",
       "      <td>USA_CA_dairy_1476</td>\n",
       "      <td>USA_CA_dairy_1476</td>\n",
       "      <td>USA</td>\n",
       "      <td>enteric-fermentation-cattle-feedlot</td>\n",
       "      <td>dairy</td>\n",
       "      <td>climate-trace</td>\n",
       "      <td>{'Geometry': array([-121.00264633,   37.158295...</td>\n",
       "      <td>24600</td>\n",
       "      <td>37.158296</td>\n",
       "      <td>-121.002646</td>\n",
       "      <td>https://api.mapbox.com/v4/mapbox.satellite/16/...</td>\n",
       "      <td>0.0</td>\n",
       "    </tr>\n",
       "    <tr>\n",
       "      <th>5309</th>\n",
       "      <td>5309</td>\n",
       "      <td>17536</td>\n",
       "      <td>3161534</td>\n",
       "      <td>USA_CA_dairy_1473</td>\n",
       "      <td>USA_CA_dairy_1473</td>\n",
       "      <td>USA</td>\n",
       "      <td>enteric-fermentation-cattle-feedlot</td>\n",
       "      <td>dairy</td>\n",
       "      <td>climate-trace</td>\n",
       "      <td>{'Geometry': array([-119.31248711,   36.150775...</td>\n",
       "      <td>17500</td>\n",
       "      <td>36.150776</td>\n",
       "      <td>-119.312487</td>\n",
       "      <td>https://api.mapbox.com/v4/mapbox.satellite/16/...</td>\n",
       "      <td>0.0</td>\n",
       "    </tr>\n",
       "  </tbody>\n",
       "</table>\n",
       "</div>"
      ],
      "text/plain": [
       "      Unnamed: 0.1  Unnamed: 0        Id               Name  \\\n",
       "5305          5305       46567   3265253      RICHVALE WWTF   \n",
       "5306          5306       21012  25745436  USA_CA_dairy_1248   \n",
       "5307          5307       24557   3160415   USA_CA_dairy_354   \n",
       "5308          5308       24670   3161537  USA_CA_dairy_1476   \n",
       "5309          5309       17536   3161534  USA_CA_dairy_1473   \n",
       "\n",
       "               NativeId Country                               Sector  \\\n",
       "5305           USA01144     USA   wastewater-treatment-and-discharge   \n",
       "5306  USA_CA_dairy_1248     USA     manure-management-cattle-feedlot   \n",
       "5307   USA_CA_dairy_354     USA  enteric-fermentation-cattle-feedlot   \n",
       "5308  USA_CA_dairy_1476     USA  enteric-fermentation-cattle-feedlot   \n",
       "5309  USA_CA_dairy_1473     USA  enteric-fermentation-cattle-feedlot   \n",
       "\n",
       "                                   AssetType ReportingEntity  \\\n",
       "5305  domestic centralized aerobic secondary   climate-trace   \n",
       "5306                 manure_management_dairy   climate-trace   \n",
       "5307                                   dairy   climate-trace   \n",
       "5308                                   dairy   climate-trace   \n",
       "5309                                   dairy   climate-trace   \n",
       "\n",
       "                                               Centroid  offset_batch  \\\n",
       "5305  {'Geometry': array([-122.081,   39.386]), 'SRI...         46500   \n",
       "5306  {'Geometry': array([-119.71114531,   36.222698...         21000   \n",
       "5307  {'Geometry': array([-121.018  ,   37.80671]), ...         24500   \n",
       "5308  {'Geometry': array([-121.00264633,   37.158295...         24600   \n",
       "5309  {'Geometry': array([-119.31248711,   36.150775...         17500   \n",
       "\n",
       "       latitude   longitude  \\\n",
       "5305  39.386000 -122.081000   \n",
       "5306  36.222699 -119.711145   \n",
       "5307  37.806710 -121.018000   \n",
       "5308  37.158296 -121.002646   \n",
       "5309  36.150776 -119.312487   \n",
       "\n",
       "                                         Thumbnail_post  co2  \n",
       "5305  https://api.mapbox.com/v4/mapbox.satellite/16/...  0.0  \n",
       "5306  https://api.mapbox.com/v4/mapbox.satellite/16/...  0.0  \n",
       "5307  https://api.mapbox.com/v4/mapbox.satellite/16/...  0.0  \n",
       "5308  https://api.mapbox.com/v4/mapbox.satellite/16/...  0.0  \n",
       "5309  https://api.mapbox.com/v4/mapbox.satellite/16/...  0.0  "
      ]
     },
     "execution_count": 1,
     "metadata": {},
     "output_type": "execute_result"
    }
   ],
   "source": [
    "import pandas as pd\n",
    "import os; os.chdir('../') # to run from repo root\n",
    "import sys; sys.path.insert(0, '/Users/aprevot/Synced/github/code/code_perso/yaetos/')  # to run from git repo, not lib. need to reload jupyter kernel for change to take effect.\n",
    "from yaetos.etl_utils import InputLoader\n",
    "\n",
    "args = {\n",
    "    'job_param_file': 'conf/jobs_metadata.yml',\n",
    "    'job_name': 'dashboards/climate_trace.ipynb',\n",
    "    'py_job': 'n/a',\n",
    "    'dependencies': False,\n",
    "    }\n",
    "\n",
    "inputs = InputLoader(**args).run()\n",
    "assets = inputs['assets']\n",
    "assets.tail()"
   ]
  },
  {
   "cell_type": "code",
   "execution_count": 2,
   "id": "e8a074c5",
   "metadata": {},
   "outputs": [
    {
     "data": {
      "application/javascript": "(function(root) {\n  function now() {\n    return new Date();\n  }\n\n  var force = true;\n  var py_version = '3.3.2'.replace('rc', '-rc.').replace('.dev', '-dev.');\n  var reloading = false;\n  var Bokeh = root.Bokeh;\n\n  if (typeof (root._bokeh_timeout) === \"undefined\" || force) {\n    root._bokeh_timeout = Date.now() + 5000;\n    root._bokeh_failed_load = false;\n  }\n\n  function run_callbacks() {\n    try {\n      root._bokeh_onload_callbacks.forEach(function(callback) {\n        if (callback != null)\n          callback();\n      });\n    } finally {\n      delete root._bokeh_onload_callbacks;\n    }\n    console.debug(\"Bokeh: all callbacks have finished\");\n  }\n\n  function load_libs(css_urls, js_urls, js_modules, js_exports, callback) {\n    if (css_urls == null) css_urls = [];\n    if (js_urls == null) js_urls = [];\n    if (js_modules == null) js_modules = [];\n    if (js_exports == null) js_exports = {};\n\n    root._bokeh_onload_callbacks.push(callback);\n\n    if (root._bokeh_is_loading > 0) {\n      console.debug(\"Bokeh: BokehJS is being loaded, scheduling callback at\", now());\n      return null;\n    }\n    if (js_urls.length === 0 && js_modules.length === 0 && Object.keys(js_exports).length === 0) {\n      run_callbacks();\n      return null;\n    }\n    if (!reloading) {\n      console.debug(\"Bokeh: BokehJS not loaded, scheduling load and callback at\", now());\n    }\n\n    function on_load() {\n      root._bokeh_is_loading--;\n      if (root._bokeh_is_loading === 0) {\n        console.debug(\"Bokeh: all BokehJS libraries/stylesheets loaded\");\n        run_callbacks()\n      }\n    }\n    window._bokeh_on_load = on_load\n\n    function on_error() {\n      console.error(\"failed to load \" + url);\n    }\n\n    var skip = [];\n    if (window.requirejs) {\n      window.requirejs.config({'packages': {}, 'paths': {'h3': 'https://cdn.jsdelivr.net/npm/h3-js@3.7.2/dist/h3-js.umd', 'deck-gl': 'https://cdn.jsdelivr.net/npm/deck.gl@8.6.7/dist.min', 'deck-json': 'https://cdn.jsdelivr.net/npm/@deck.gl/json@8.6.7/dist.min', 'loader-csv': 'https://cdn.jsdelivr.net/npm/@loaders.gl/csv@3.1.7/dist/dist.min', 'loader-json': 'https://cdn.jsdelivr.net/npm/@loaders.gl/json@3.1.7/dist/dist.min', 'loader-tiles': 'https://cdn.jsdelivr.net/npm/@loaders.gl/3d-tiles@3.1.7/dist/dist.min', 'mapbox-gl': 'https://api.mapbox.com/mapbox-gl-js/v3.0.1/mapbox-gl', 'jspanel': 'https://cdn.jsdelivr.net/npm/jspanel4@4.12.0/dist/jspanel', 'jspanel-modal': 'https://cdn.jsdelivr.net/npm/jspanel4@4.12.0/dist/extensions/modal/jspanel.modal', 'jspanel-tooltip': 'https://cdn.jsdelivr.net/npm/jspanel4@4.12.0/dist/extensions/tooltip/jspanel.tooltip', 'jspanel-hint': 'https://cdn.jsdelivr.net/npm/jspanel4@4.12.0/dist/extensions/hint/jspanel.hint', 'jspanel-layout': 'https://cdn.jsdelivr.net/npm/jspanel4@4.12.0/dist/extensions/layout/jspanel.layout', 'jspanel-contextmenu': 'https://cdn.jsdelivr.net/npm/jspanel4@4.12.0/dist/extensions/contextmenu/jspanel.contextmenu', 'jspanel-dock': 'https://cdn.jsdelivr.net/npm/jspanel4@4.12.0/dist/extensions/dock/jspanel.dock', 'gridstack': 'https://cdn.jsdelivr.net/npm/gridstack@7.2.3/dist/gridstack-all', 'notyf': 'https://cdn.jsdelivr.net/npm/notyf@3/notyf.min'}, 'shim': {'deck-json': {'deps': ['deck-gl']}, 'deck-gl': {'deps': ['h3']}, 'jspanel': {'exports': 'jsPanel'}, 'gridstack': {'exports': 'GridStack'}}});\n      require([\"h3\"], function(h3) {\n\twindow.h3 = h3\n\ton_load()\n      })\n      require([\"deck-gl\"], function(deck) {\n\twindow.deck = deck\n\ton_load()\n      })\n      require([\"deck-json\"], function() {\n\ton_load()\n      })\n      require([\"loader-csv\"], function() {\n\ton_load()\n      })\n      require([\"loader-json\"], function() {\n\ton_load()\n      })\n      require([\"loader-tiles\"], function() {\n\ton_load()\n      })\n      require([\"mapbox-gl\"], function(mapboxgl) {\n\twindow.mapboxgl = mapboxgl\n\ton_load()\n      })\n      require([\"jspanel\"], function(jsPanel) {\n\twindow.jsPanel = jsPanel\n\ton_load()\n      })\n      require([\"jspanel-modal\"], function() {\n\ton_load()\n      })\n      require([\"jspanel-tooltip\"], function() {\n\ton_load()\n      })\n      require([\"jspanel-hint\"], function() {\n\ton_load()\n      })\n      require([\"jspanel-layout\"], function() {\n\ton_load()\n      })\n      require([\"jspanel-contextmenu\"], function() {\n\ton_load()\n      })\n      require([\"jspanel-dock\"], function() {\n\ton_load()\n      })\n      require([\"gridstack\"], function(GridStack) {\n\twindow.GridStack = GridStack\n\ton_load()\n      })\n      require([\"notyf\"], function() {\n\ton_load()\n      })\n      root._bokeh_is_loading = css_urls.length + 16;\n    } else {\n      root._bokeh_is_loading = css_urls.length + js_urls.length + js_modules.length + Object.keys(js_exports).length;\n    }\n\n    var existing_stylesheets = []\n    var links = document.getElementsByTagName('link')\n    for (var i = 0; i < links.length; i++) {\n      var link = links[i]\n      if (link.href != null) {\n\texisting_stylesheets.push(link.href)\n      }\n    }\n    for (var i = 0; i < css_urls.length; i++) {\n      var url = css_urls[i];\n      if (existing_stylesheets.indexOf(url) !== -1) {\n\ton_load()\n\tcontinue;\n      }\n      const element = document.createElement(\"link\");\n      element.onload = on_load;\n      element.onerror = on_error;\n      element.rel = \"stylesheet\";\n      element.type = \"text/css\";\n      element.href = url;\n      console.debug(\"Bokeh: injecting link tag for BokehJS stylesheet: \", url);\n      document.body.appendChild(element);\n    }    if (((window['deck'] !== undefined) && (!(window['deck'] instanceof HTMLElement))) || window.requirejs) {\n      var urls = ['https://cdn.holoviz.org/panel/1.3.6/dist/bundled/deckglplot/h3-js@3.7.2/dist/h3-js.umd.js', 'https://cdn.holoviz.org/panel/1.3.6/dist/bundled/deckglplot/deck.gl@8.6.7/dist.min.js', 'https://cdn.holoviz.org/panel/1.3.6/dist/bundled/deckglplot/@deck.gl/json@8.6.7/dist.min.js', 'https://cdn.holoviz.org/panel/1.3.6/dist/bundled/deckglplot/@loaders.gl/csv@3.1.7/dist/dist.min.js', 'https://cdn.holoviz.org/panel/1.3.6/dist/bundled/deckglplot/@loaders.gl/json@3.1.7/dist/dist.min.js', 'https://cdn.holoviz.org/panel/1.3.6/dist/bundled/deckglplot/@loaders.gl/3d-tiles@3.1.7/dist/dist.min.js'];\n      for (var i = 0; i < urls.length; i++) {\n        skip.push(urls[i])\n      }\n    }    if (((window['mapboxgl'] !== undefined) && (!(window['mapboxgl'] instanceof HTMLElement))) || window.requirejs) {\n      var urls = ['https://cdn.holoviz.org/panel/1.3.6/dist/bundled/deckglplot/mapbox-gl-js/v3.0.1/mapbox-gl.js'];\n      for (var i = 0; i < urls.length; i++) {\n        skip.push(urls[i])\n      }\n    }    if (((window['jsPanel'] !== undefined) && (!(window['jsPanel'] instanceof HTMLElement))) || window.requirejs) {\n      var urls = ['https://cdn.holoviz.org/panel/1.3.6/dist/bundled/floatpanel/jspanel4@4.12.0/dist/jspanel.js', 'https://cdn.holoviz.org/panel/1.3.6/dist/bundled/floatpanel/jspanel4@4.12.0/dist/extensions/modal/jspanel.modal.js', 'https://cdn.holoviz.org/panel/1.3.6/dist/bundled/floatpanel/jspanel4@4.12.0/dist/extensions/tooltip/jspanel.tooltip.js', 'https://cdn.holoviz.org/panel/1.3.6/dist/bundled/floatpanel/jspanel4@4.12.0/dist/extensions/hint/jspanel.hint.js', 'https://cdn.holoviz.org/panel/1.3.6/dist/bundled/floatpanel/jspanel4@4.12.0/dist/extensions/layout/jspanel.layout.js', 'https://cdn.holoviz.org/panel/1.3.6/dist/bundled/floatpanel/jspanel4@4.12.0/dist/extensions/contextmenu/jspanel.contextmenu.js', 'https://cdn.holoviz.org/panel/1.3.6/dist/bundled/floatpanel/jspanel4@4.12.0/dist/extensions/dock/jspanel.dock.js'];\n      for (var i = 0; i < urls.length; i++) {\n        skip.push(urls[i])\n      }\n    }    if (((window['GridStack'] !== undefined) && (!(window['GridStack'] instanceof HTMLElement))) || window.requirejs) {\n      var urls = ['https://cdn.holoviz.org/panel/1.3.6/dist/bundled/gridstack/gridstack@7.2.3/dist/gridstack-all.js'];\n      for (var i = 0; i < urls.length; i++) {\n        skip.push(urls[i])\n      }\n    }    if (((window['Notyf'] !== undefined) && (!(window['Notyf'] instanceof HTMLElement))) || window.requirejs) {\n      var urls = ['https://cdn.holoviz.org/panel/1.3.6/dist/bundled/notificationarea/notyf@3/notyf.min.js'];\n      for (var i = 0; i < urls.length; i++) {\n        skip.push(urls[i])\n      }\n    }    var existing_scripts = []\n    var scripts = document.getElementsByTagName('script')\n    for (var i = 0; i < scripts.length; i++) {\n      var script = scripts[i]\n      if (script.src != null) {\n\texisting_scripts.push(script.src)\n      }\n    }\n    for (var i = 0; i < js_urls.length; i++) {\n      var url = js_urls[i];\n      if (skip.indexOf(url) !== -1 || existing_scripts.indexOf(url) !== -1) {\n\tif (!window.requirejs) {\n\t  on_load();\n\t}\n\tcontinue;\n      }\n      var element = document.createElement('script');\n      element.onload = on_load;\n      element.onerror = on_error;\n      element.async = false;\n      element.src = url;\n      console.debug(\"Bokeh: injecting script tag for BokehJS library: \", url);\n      document.head.appendChild(element);\n    }\n    for (var i = 0; i < js_modules.length; i++) {\n      var url = js_modules[i];\n      if (skip.indexOf(url) !== -1 || existing_scripts.indexOf(url) !== -1) {\n\tif (!window.requirejs) {\n\t  on_load();\n\t}\n\tcontinue;\n      }\n      var element = document.createElement('script');\n      element.onload = on_load;\n      element.onerror = on_error;\n      element.async = false;\n      element.src = url;\n      element.type = \"module\";\n      console.debug(\"Bokeh: injecting script tag for BokehJS library: \", url);\n      document.head.appendChild(element);\n    }\n    for (const name in js_exports) {\n      var url = js_exports[name];\n      if (skip.indexOf(url) >= 0 || root[name] != null) {\n\tif (!window.requirejs) {\n\t  on_load();\n\t}\n\tcontinue;\n      }\n      var element = document.createElement('script');\n      element.onerror = on_error;\n      element.async = false;\n      element.type = \"module\";\n      console.debug(\"Bokeh: injecting script tag for BokehJS library: \", url);\n      element.textContent = `\n      import ${name} from \"${url}\"\n      window.${name} = ${name}\n      window._bokeh_on_load()\n      `\n      document.head.appendChild(element);\n    }\n    if (!js_urls.length && !js_modules.length) {\n      on_load()\n    }\n  };\n\n  function inject_raw_css(css) {\n    const element = document.createElement(\"style\");\n    element.appendChild(document.createTextNode(css));\n    document.body.appendChild(element);\n  }\n\n  var js_urls = [\"https://cdn.holoviz.org/panel/1.3.6/dist/bundled/deckglplot/h3-js@3.7.2/dist/h3-js.umd.js\", \"https://cdn.holoviz.org/panel/1.3.6/dist/bundled/deckglplot/deck.gl@8.6.7/dist.min.js\", \"https://cdn.holoviz.org/panel/1.3.6/dist/bundled/deckglplot/@deck.gl/json@8.6.7/dist.min.js\", \"https://cdn.holoviz.org/panel/1.3.6/dist/bundled/deckglplot/@loaders.gl/csv@3.1.7/dist/dist.min.js\", \"https://cdn.holoviz.org/panel/1.3.6/dist/bundled/deckglplot/@loaders.gl/json@3.1.7/dist/dist.min.js\", \"https://cdn.holoviz.org/panel/1.3.6/dist/bundled/deckglplot/@loaders.gl/3d-tiles@3.1.7/dist/dist.min.js\", \"https://cdn.holoviz.org/panel/1.3.6/dist/bundled/deckglplot/mapbox-gl-js/v3.0.1/mapbox-gl.js\", \"https://cdn.bokeh.org/bokeh/release/bokeh-3.3.2.min.js\", \"https://cdn.bokeh.org/bokeh/release/bokeh-gl-3.3.2.min.js\", \"https://cdn.bokeh.org/bokeh/release/bokeh-widgets-3.3.2.min.js\", \"https://cdn.bokeh.org/bokeh/release/bokeh-tables-3.3.2.min.js\", \"https://cdn.holoviz.org/panel/1.3.6/dist/panel.min.js\"];\n  var js_modules = [];\n  var js_exports = {};\n  var css_urls = [\"https://cdn.holoviz.org/panel/1.3.6/dist/bundled/deckglplot/mapbox-gl-js/v3.0.1/mapbox-gl.css\"];\n  var inline_js = [    function(Bokeh) {\n      Bokeh.set_log_level(\"info\");\n    },\nfunction(Bokeh) {} // ensure no trailing comma for IE\n  ];\n\n  function run_inline_js() {\n    if ((root.Bokeh !== undefined) || (force === true)) {\n      for (var i = 0; i < inline_js.length; i++) {\n\ttry {\n          inline_js[i].call(root, root.Bokeh);\n\t} catch(e) {\n\t  if (!reloading) {\n\t    throw e;\n\t  }\n\t}\n      }\n      // Cache old bokeh versions\n      if (Bokeh != undefined && !reloading) {\n\tvar NewBokeh = root.Bokeh;\n\tif (Bokeh.versions === undefined) {\n\t  Bokeh.versions = new Map();\n\t}\n\tif (NewBokeh.version !== Bokeh.version) {\n\t  Bokeh.versions.set(NewBokeh.version, NewBokeh)\n\t}\n\troot.Bokeh = Bokeh;\n      }} else if (Date.now() < root._bokeh_timeout) {\n      setTimeout(run_inline_js, 100);\n    } else if (!root._bokeh_failed_load) {\n      console.log(\"Bokeh: BokehJS failed to load within specified timeout.\");\n      root._bokeh_failed_load = true;\n    }\n    root._bokeh_is_initializing = false\n  }\n\n  function load_or_wait() {\n    // Implement a backoff loop that tries to ensure we do not load multiple\n    // versions of Bokeh and its dependencies at the same time.\n    // In recent versions we use the root._bokeh_is_initializing flag\n    // to determine whether there is an ongoing attempt to initialize\n    // bokeh, however for backward compatibility we also try to ensure\n    // that we do not start loading a newer (Panel>=1.0 and Bokeh>3) version\n    // before older versions are fully initialized.\n    if (root._bokeh_is_initializing && Date.now() > root._bokeh_timeout) {\n      root._bokeh_is_initializing = false;\n      root._bokeh_onload_callbacks = undefined;\n      console.log(\"Bokeh: BokehJS was loaded multiple times but one version failed to initialize.\");\n      load_or_wait();\n    } else if (root._bokeh_is_initializing || (typeof root._bokeh_is_initializing === \"undefined\" && root._bokeh_onload_callbacks !== undefined)) {\n      setTimeout(load_or_wait, 100);\n    } else {\n      root._bokeh_is_initializing = true\n      root._bokeh_onload_callbacks = []\n      var bokeh_loaded = Bokeh != null && (Bokeh.version === py_version || (Bokeh.versions !== undefined && Bokeh.versions.has(py_version)));\n      if (!reloading && !bokeh_loaded) {\n\troot.Bokeh = undefined;\n      }\n      load_libs(css_urls, js_urls, js_modules, js_exports, function() {\n\tconsole.debug(\"Bokeh: BokehJS plotting callback run at\", now());\n\trun_inline_js();\n      });\n    }\n  }\n  // Give older versions of the autoload script a head-start to ensure\n  // they initialize before we start loading newer version.\n  setTimeout(load_or_wait, 100)\n}(window));",
      "application/vnd.holoviews_load.v0+json": ""
     },
     "metadata": {},
     "output_type": "display_data"
    },
    {
     "data": {
      "application/javascript": "\nif ((window.PyViz === undefined) || (window.PyViz instanceof HTMLElement)) {\n  window.PyViz = {comms: {}, comm_status:{}, kernels:{}, receivers: {}, plot_index: []}\n}\n\n\n    function JupyterCommManager() {\n    }\n\n    JupyterCommManager.prototype.register_target = function(plot_id, comm_id, msg_handler) {\n      if (window.comm_manager || ((window.Jupyter !== undefined) && (Jupyter.notebook.kernel != null))) {\n        var comm_manager = window.comm_manager || Jupyter.notebook.kernel.comm_manager;\n        comm_manager.register_target(comm_id, function(comm) {\n          comm.on_msg(msg_handler);\n        });\n      } else if ((plot_id in window.PyViz.kernels) && (window.PyViz.kernels[plot_id])) {\n        window.PyViz.kernels[plot_id].registerCommTarget(comm_id, function(comm) {\n          comm.onMsg = msg_handler;\n        });\n      } else if (typeof google != 'undefined' && google.colab.kernel != null) {\n        google.colab.kernel.comms.registerTarget(comm_id, (comm) => {\n          var messages = comm.messages[Symbol.asyncIterator]();\n          function processIteratorResult(result) {\n            var message = result.value;\n            console.log(message)\n            var content = {data: message.data, comm_id};\n            var buffers = []\n            for (var buffer of message.buffers || []) {\n              buffers.push(new DataView(buffer))\n            }\n            var metadata = message.metadata || {};\n            var msg = {content, buffers, metadata}\n            msg_handler(msg);\n            return messages.next().then(processIteratorResult);\n          }\n          return messages.next().then(processIteratorResult);\n        })\n      }\n    }\n\n    JupyterCommManager.prototype.get_client_comm = function(plot_id, comm_id, msg_handler) {\n      if (comm_id in window.PyViz.comms) {\n        return window.PyViz.comms[comm_id];\n      } else if (window.comm_manager || ((window.Jupyter !== undefined) && (Jupyter.notebook.kernel != null))) {\n        var comm_manager = window.comm_manager || Jupyter.notebook.kernel.comm_manager;\n        var comm = comm_manager.new_comm(comm_id, {}, {}, {}, comm_id);\n        if (msg_handler) {\n          comm.on_msg(msg_handler);\n        }\n      } else if ((plot_id in window.PyViz.kernels) && (window.PyViz.kernels[plot_id])) {\n        var comm = window.PyViz.kernels[plot_id].connectToComm(comm_id);\n        comm.open();\n        if (msg_handler) {\n          comm.onMsg = msg_handler;\n        }\n      } else if (typeof google != 'undefined' && google.colab.kernel != null) {\n        var comm_promise = google.colab.kernel.comms.open(comm_id)\n        comm_promise.then((comm) => {\n          window.PyViz.comms[comm_id] = comm;\n          if (msg_handler) {\n            var messages = comm.messages[Symbol.asyncIterator]();\n            function processIteratorResult(result) {\n              var message = result.value;\n              var content = {data: message.data};\n              var metadata = message.metadata || {comm_id};\n              var msg = {content, metadata}\n              msg_handler(msg);\n              return messages.next().then(processIteratorResult);\n            }\n            return messages.next().then(processIteratorResult);\n          }\n        }) \n        var sendClosure = (data, metadata, buffers, disposeOnDone) => {\n          return comm_promise.then((comm) => {\n            comm.send(data, metadata, buffers, disposeOnDone);\n          });\n        };\n        var comm = {\n          send: sendClosure\n        };\n      }\n      window.PyViz.comms[comm_id] = comm;\n      return comm;\n    }\n    window.PyViz.comm_manager = new JupyterCommManager();\n    \n\n\nvar JS_MIME_TYPE = 'application/javascript';\nvar HTML_MIME_TYPE = 'text/html';\nvar EXEC_MIME_TYPE = 'application/vnd.holoviews_exec.v0+json';\nvar CLASS_NAME = 'output';\n\n/**\n * Render data to the DOM node\n */\nfunction render(props, node) {\n  var div = document.createElement(\"div\");\n  var script = document.createElement(\"script\");\n  node.appendChild(div);\n  node.appendChild(script);\n}\n\n/**\n * Handle when a new output is added\n */\nfunction handle_add_output(event, handle) {\n  var output_area = handle.output_area;\n  var output = handle.output;\n  if ((output.data == undefined) || (!output.data.hasOwnProperty(EXEC_MIME_TYPE))) {\n    return\n  }\n  var id = output.metadata[EXEC_MIME_TYPE][\"id\"];\n  var toinsert = output_area.element.find(\".\" + CLASS_NAME.split(' ')[0]);\n  if (id !== undefined) {\n    var nchildren = toinsert.length;\n    var html_node = toinsert[nchildren-1].children[0];\n    html_node.innerHTML = output.data[HTML_MIME_TYPE];\n    var scripts = [];\n    var nodelist = html_node.querySelectorAll(\"script\");\n    for (var i in nodelist) {\n      if (nodelist.hasOwnProperty(i)) {\n        scripts.push(nodelist[i])\n      }\n    }\n\n    scripts.forEach( function (oldScript) {\n      var newScript = document.createElement(\"script\");\n      var attrs = [];\n      var nodemap = oldScript.attributes;\n      for (var j in nodemap) {\n        if (nodemap.hasOwnProperty(j)) {\n          attrs.push(nodemap[j])\n        }\n      }\n      attrs.forEach(function(attr) { newScript.setAttribute(attr.name, attr.value) });\n      newScript.appendChild(document.createTextNode(oldScript.innerHTML));\n      oldScript.parentNode.replaceChild(newScript, oldScript);\n    });\n    if (JS_MIME_TYPE in output.data) {\n      toinsert[nchildren-1].children[1].textContent = output.data[JS_MIME_TYPE];\n    }\n    output_area._hv_plot_id = id;\n    if ((window.Bokeh !== undefined) && (id in Bokeh.index)) {\n      window.PyViz.plot_index[id] = Bokeh.index[id];\n    } else {\n      window.PyViz.plot_index[id] = null;\n    }\n  } else if (output.metadata[EXEC_MIME_TYPE][\"server_id\"] !== undefined) {\n    var bk_div = document.createElement(\"div\");\n    bk_div.innerHTML = output.data[HTML_MIME_TYPE];\n    var script_attrs = bk_div.children[0].attributes;\n    for (var i = 0; i < script_attrs.length; i++) {\n      toinsert[toinsert.length - 1].childNodes[1].setAttribute(script_attrs[i].name, script_attrs[i].value);\n    }\n    // store reference to server id on output_area\n    output_area._bokeh_server_id = output.metadata[EXEC_MIME_TYPE][\"server_id\"];\n  }\n}\n\n/**\n * Handle when an output is cleared or removed\n */\nfunction handle_clear_output(event, handle) {\n  var id = handle.cell.output_area._hv_plot_id;\n  var server_id = handle.cell.output_area._bokeh_server_id;\n  if (((id === undefined) || !(id in PyViz.plot_index)) && (server_id !== undefined)) { return; }\n  var comm = window.PyViz.comm_manager.get_client_comm(\"hv-extension-comm\", \"hv-extension-comm\", function () {});\n  if (server_id !== null) {\n    comm.send({event_type: 'server_delete', 'id': server_id});\n    return;\n  } else if (comm !== null) {\n    comm.send({event_type: 'delete', 'id': id});\n  }\n  delete PyViz.plot_index[id];\n  if ((window.Bokeh !== undefined) & (id in window.Bokeh.index)) {\n    var doc = window.Bokeh.index[id].model.document\n    doc.clear();\n    const i = window.Bokeh.documents.indexOf(doc);\n    if (i > -1) {\n      window.Bokeh.documents.splice(i, 1);\n    }\n  }\n}\n\n/**\n * Handle kernel restart event\n */\nfunction handle_kernel_cleanup(event, handle) {\n  delete PyViz.comms[\"hv-extension-comm\"];\n  window.PyViz.plot_index = {}\n}\n\n/**\n * Handle update_display_data messages\n */\nfunction handle_update_output(event, handle) {\n  handle_clear_output(event, {cell: {output_area: handle.output_area}})\n  handle_add_output(event, handle)\n}\n\nfunction register_renderer(events, OutputArea) {\n  function append_mime(data, metadata, element) {\n    // create a DOM node to render to\n    var toinsert = this.create_output_subarea(\n    metadata,\n    CLASS_NAME,\n    EXEC_MIME_TYPE\n    );\n    this.keyboard_manager.register_events(toinsert);\n    // Render to node\n    var props = {data: data, metadata: metadata[EXEC_MIME_TYPE]};\n    render(props, toinsert[0]);\n    element.append(toinsert);\n    return toinsert\n  }\n\n  events.on('output_added.OutputArea', handle_add_output);\n  events.on('output_updated.OutputArea', handle_update_output);\n  events.on('clear_output.CodeCell', handle_clear_output);\n  events.on('delete.Cell', handle_clear_output);\n  events.on('kernel_ready.Kernel', handle_kernel_cleanup);\n\n  OutputArea.prototype.register_mime_type(EXEC_MIME_TYPE, append_mime, {\n    safe: true,\n    index: 0\n  });\n}\n\nif (window.Jupyter !== undefined) {\n  try {\n    var events = require('base/js/events');\n    var OutputArea = require('notebook/js/outputarea').OutputArea;\n    if (OutputArea.prototype.mime_types().indexOf(EXEC_MIME_TYPE) == -1) {\n      register_renderer(events, OutputArea);\n    }\n  } catch(err) {\n  }\n}\n",
      "application/vnd.holoviews_load.v0+json": ""
     },
     "metadata": {},
     "output_type": "display_data"
    },
    {
     "data": {
      "text/html": [
       "<style>*[data-root-id],\n",
       "*[data-root-id] > * {\n",
       "  box-sizing: border-box;\n",
       "  font-family: var(--jp-ui-font-family);\n",
       "  font-size: var(--jp-ui-font-size1);\n",
       "  color: var(--vscode-editor-foreground, var(--jp-ui-font-color1));\n",
       "}\n",
       "\n",
       "/* Override VSCode background color */\n",
       ".cell-output-ipywidget-background:has(\n",
       "    > .cell-output-ipywidget-background > .lm-Widget > *[data-root-id]\n",
       "  ),\n",
       ".cell-output-ipywidget-background:has(> .lm-Widget > *[data-root-id]) {\n",
       "  background-color: transparent !important;\n",
       "}\n",
       "</style>"
      ]
     },
     "metadata": {},
     "output_type": "display_data"
    },
    {
     "data": {
      "application/vnd.holoviews_exec.v0+json": "",
      "text/html": [
       "<div id='f5b4b208-c704-4ba6-be5c-6027cedec056'>\n",
       "  <div id=\"f576d99d-11d9-4ca1-bfe4-1d0d21fd9419\" data-root-id=\"f5b4b208-c704-4ba6-be5c-6027cedec056\" style=\"display: contents;\"></div>\n",
       "</div>\n",
       "<script type=\"application/javascript\">(function(root) {\n",
       "  var docs_json = {\"5e0195ac-8f90-4400-a93b-bcdfff5cd3c2\":{\"version\":\"3.3.2\",\"title\":\"Bokeh Application\",\"roots\":[{\"type\":\"object\",\"name\":\"panel.models.browser.BrowserInfo\",\"id\":\"f5b4b208-c704-4ba6-be5c-6027cedec056\"},{\"type\":\"object\",\"name\":\"panel.models.comm_manager.CommManager\",\"id\":\"34c4f938-4e4f-4fbb-89fe-dd3aaafff167\",\"attributes\":{\"plot_id\":\"f5b4b208-c704-4ba6-be5c-6027cedec056\",\"comm_id\":\"ac3310c931af44ed827ba34906fed1cb\",\"client_comm_id\":\"98be5e1a24df42cb859afdd2c5f1871b\"}}],\"defs\":[{\"type\":\"model\",\"name\":\"ReactiveHTML1\"},{\"type\":\"model\",\"name\":\"FlexBox1\",\"properties\":[{\"name\":\"align_content\",\"kind\":\"Any\",\"default\":\"flex-start\"},{\"name\":\"align_items\",\"kind\":\"Any\",\"default\":\"flex-start\"},{\"name\":\"flex_direction\",\"kind\":\"Any\",\"default\":\"row\"},{\"name\":\"flex_wrap\",\"kind\":\"Any\",\"default\":\"wrap\"},{\"name\":\"justify_content\",\"kind\":\"Any\",\"default\":\"flex-start\"}]},{\"type\":\"model\",\"name\":\"FloatPanel1\",\"properties\":[{\"name\":\"config\",\"kind\":\"Any\",\"default\":{\"type\":\"map\"}},{\"name\":\"contained\",\"kind\":\"Any\",\"default\":true},{\"name\":\"position\",\"kind\":\"Any\",\"default\":\"right-top\"},{\"name\":\"offsetx\",\"kind\":\"Any\",\"default\":null},{\"name\":\"offsety\",\"kind\":\"Any\",\"default\":null},{\"name\":\"theme\",\"kind\":\"Any\",\"default\":\"primary\"},{\"name\":\"status\",\"kind\":\"Any\",\"default\":\"normalized\"}]},{\"type\":\"model\",\"name\":\"GridStack1\",\"properties\":[{\"name\":\"mode\",\"kind\":\"Any\",\"default\":\"warn\"},{\"name\":\"ncols\",\"kind\":\"Any\",\"default\":null},{\"name\":\"nrows\",\"kind\":\"Any\",\"default\":null},{\"name\":\"allow_resize\",\"kind\":\"Any\",\"default\":true},{\"name\":\"allow_drag\",\"kind\":\"Any\",\"default\":true},{\"name\":\"state\",\"kind\":\"Any\",\"default\":[]}]},{\"type\":\"model\",\"name\":\"drag1\",\"properties\":[{\"name\":\"slider_width\",\"kind\":\"Any\",\"default\":5},{\"name\":\"slider_color\",\"kind\":\"Any\",\"default\":\"black\"},{\"name\":\"value\",\"kind\":\"Any\",\"default\":50}]},{\"type\":\"model\",\"name\":\"click1\",\"properties\":[{\"name\":\"terminal_output\",\"kind\":\"Any\",\"default\":\"\"},{\"name\":\"debug_name\",\"kind\":\"Any\",\"default\":\"\"},{\"name\":\"clears\",\"kind\":\"Any\",\"default\":0}]},{\"type\":\"model\",\"name\":\"copy_to_clipboard1\",\"properties\":[{\"name\":\"fill\",\"kind\":\"Any\",\"default\":\"none\"},{\"name\":\"value\",\"kind\":\"Any\",\"default\":null}]},{\"type\":\"model\",\"name\":\"FastWrapper1\",\"properties\":[{\"name\":\"object\",\"kind\":\"Any\",\"default\":null},{\"name\":\"style\",\"kind\":\"Any\",\"default\":null}]},{\"type\":\"model\",\"name\":\"NotificationAreaBase1\",\"properties\":[{\"name\":\"js_events\",\"kind\":\"Any\",\"default\":{\"type\":\"map\"}},{\"name\":\"position\",\"kind\":\"Any\",\"default\":\"bottom-right\"},{\"name\":\"_clear\",\"kind\":\"Any\",\"default\":0}]},{\"type\":\"model\",\"name\":\"NotificationArea1\",\"properties\":[{\"name\":\"js_events\",\"kind\":\"Any\",\"default\":{\"type\":\"map\"}},{\"name\":\"notifications\",\"kind\":\"Any\",\"default\":[]},{\"name\":\"position\",\"kind\":\"Any\",\"default\":\"bottom-right\"},{\"name\":\"_clear\",\"kind\":\"Any\",\"default\":0},{\"name\":\"types\",\"kind\":\"Any\",\"default\":[{\"type\":\"map\",\"entries\":[[\"type\",\"warning\"],[\"background\",\"#ffc107\"],[\"icon\",{\"type\":\"map\",\"entries\":[[\"className\",\"fas fa-exclamation-triangle\"],[\"tagName\",\"i\"],[\"color\",\"white\"]]}]]},{\"type\":\"map\",\"entries\":[[\"type\",\"info\"],[\"background\",\"#007bff\"],[\"icon\",{\"type\":\"map\",\"entries\":[[\"className\",\"fas fa-info-circle\"],[\"tagName\",\"i\"],[\"color\",\"white\"]]}]]}]}]},{\"type\":\"model\",\"name\":\"Notification\",\"properties\":[{\"name\":\"background\",\"kind\":\"Any\",\"default\":null},{\"name\":\"duration\",\"kind\":\"Any\",\"default\":3000},{\"name\":\"icon\",\"kind\":\"Any\",\"default\":null},{\"name\":\"message\",\"kind\":\"Any\",\"default\":\"\"},{\"name\":\"notification_type\",\"kind\":\"Any\",\"default\":null},{\"name\":\"_destroyed\",\"kind\":\"Any\",\"default\":false}]},{\"type\":\"model\",\"name\":\"TemplateActions1\",\"properties\":[{\"name\":\"open_modal\",\"kind\":\"Any\",\"default\":0},{\"name\":\"close_modal\",\"kind\":\"Any\",\"default\":0}]},{\"type\":\"model\",\"name\":\"BootstrapTemplateActions1\",\"properties\":[{\"name\":\"open_modal\",\"kind\":\"Any\",\"default\":0},{\"name\":\"close_modal\",\"kind\":\"Any\",\"default\":0}]},{\"type\":\"model\",\"name\":\"MaterialTemplateActions1\",\"properties\":[{\"name\":\"open_modal\",\"kind\":\"Any\",\"default\":0},{\"name\":\"close_modal\",\"kind\":\"Any\",\"default\":0}]}]}};\n",
       "  var render_items = [{\"docid\":\"5e0195ac-8f90-4400-a93b-bcdfff5cd3c2\",\"roots\":{\"f5b4b208-c704-4ba6-be5c-6027cedec056\":\"f576d99d-11d9-4ca1-bfe4-1d0d21fd9419\"},\"root_ids\":[\"f5b4b208-c704-4ba6-be5c-6027cedec056\"]}];\n",
       "  var docs = Object.values(docs_json)\n",
       "  if (!docs) {\n",
       "    return\n",
       "  }\n",
       "  const py_version = docs[0].version.replace('rc', '-rc.').replace('.dev', '-dev.')\n",
       "  function embed_document(root) {\n",
       "    var Bokeh = get_bokeh(root)\n",
       "    Bokeh.embed.embed_items_notebook(docs_json, render_items);\n",
       "    for (const render_item of render_items) {\n",
       "      for (const root_id of render_item.root_ids) {\n",
       "\tconst id_el = document.getElementById(root_id)\n",
       "\tif (id_el.children.length && (id_el.children[0].className === 'bk-root')) {\n",
       "\t  const root_el = id_el.children[0]\n",
       "\t  root_el.id = root_el.id + '-rendered'\n",
       "\t}\n",
       "      }\n",
       "    }\n",
       "  }\n",
       "  function get_bokeh(root) {\n",
       "    if (root.Bokeh === undefined) {\n",
       "      return null\n",
       "    } else if (root.Bokeh.version !== py_version) {\n",
       "      if (root.Bokeh.versions === undefined || !root.Bokeh.versions.has(py_version)) {\n",
       "\treturn null\n",
       "      }\n",
       "      return root.Bokeh.versions.get(py_version);\n",
       "    } else if (root.Bokeh.version === py_version) {\n",
       "      return root.Bokeh\n",
       "    }\n",
       "    return null\n",
       "  }\n",
       "  function is_loaded(root) {\n",
       "    var Bokeh = get_bokeh(root)\n",
       "    return (Bokeh != null && Bokeh.Panel !== undefined && ( root['deck'] !== undefined) && ( root['deck'] !== undefined))\n",
       "  }\n",
       "  if (is_loaded(root)) {\n",
       "    embed_document(root);\n",
       "  } else {\n",
       "    var attempts = 0;\n",
       "    var timer = setInterval(function(root) {\n",
       "      if (is_loaded(root)) {\n",
       "        clearInterval(timer);\n",
       "        embed_document(root);\n",
       "      } else if (document.readyState == \"complete\") {\n",
       "        attempts++;\n",
       "        if (attempts > 200) {\n",
       "          clearInterval(timer);\n",
       "\t  var Bokeh = get_bokeh(root)\n",
       "\t  if (Bokeh == null || Bokeh.Panel == null) {\n",
       "            console.warn(\"Panel: ERROR: Unable to run Panel code because Bokeh or Panel library is missing\");\n",
       "\t  } else {\n",
       "\t    console.warn(\"Panel: WARNING: Attempting to render but not all required libraries could be resolved.\")\n",
       "\t    embed_document(root)\n",
       "\t  }\n",
       "        }\n",
       "      }\n",
       "    }, 25, root)\n",
       "  }\n",
       "})(window);</script>"
      ]
     },
     "metadata": {
      "application/vnd.holoviews_exec.v0+json": {
       "id": "f5b4b208-c704-4ba6-be5c-6027cedec056"
      }
     },
     "output_type": "display_data"
    },
    {
     "data": {
      "application/javascript": "(function(root) {\n  function now() {\n    return new Date();\n  }\n\n  var force = true;\n  var py_version = '3.3.2'.replace('rc', '-rc.').replace('.dev', '-dev.');\n  var reloading = true;\n  var Bokeh = root.Bokeh;\n\n  if (typeof (root._bokeh_timeout) === \"undefined\" || force) {\n    root._bokeh_timeout = Date.now() + 5000;\n    root._bokeh_failed_load = false;\n  }\n\n  function run_callbacks() {\n    try {\n      root._bokeh_onload_callbacks.forEach(function(callback) {\n        if (callback != null)\n          callback();\n      });\n    } finally {\n      delete root._bokeh_onload_callbacks;\n    }\n    console.debug(\"Bokeh: all callbacks have finished\");\n  }\n\n  function load_libs(css_urls, js_urls, js_modules, js_exports, callback) {\n    if (css_urls == null) css_urls = [];\n    if (js_urls == null) js_urls = [];\n    if (js_modules == null) js_modules = [];\n    if (js_exports == null) js_exports = {};\n\n    root._bokeh_onload_callbacks.push(callback);\n\n    if (root._bokeh_is_loading > 0) {\n      console.debug(\"Bokeh: BokehJS is being loaded, scheduling callback at\", now());\n      return null;\n    }\n    if (js_urls.length === 0 && js_modules.length === 0 && Object.keys(js_exports).length === 0) {\n      run_callbacks();\n      return null;\n    }\n    if (!reloading) {\n      console.debug(\"Bokeh: BokehJS not loaded, scheduling load and callback at\", now());\n    }\n\n    function on_load() {\n      root._bokeh_is_loading--;\n      if (root._bokeh_is_loading === 0) {\n        console.debug(\"Bokeh: all BokehJS libraries/stylesheets loaded\");\n        run_callbacks()\n      }\n    }\n    window._bokeh_on_load = on_load\n\n    function on_error() {\n      console.error(\"failed to load \" + url);\n    }\n\n    var skip = [];\n    if (window.requirejs) {\n      window.requirejs.config({'packages': {}, 'paths': {'h3': 'https://cdn.jsdelivr.net/npm/h3-js@3.7.2/dist/h3-js.umd', 'deck-gl': 'https://cdn.jsdelivr.net/npm/deck.gl@8.6.7/dist.min', 'deck-json': 'https://cdn.jsdelivr.net/npm/@deck.gl/json@8.6.7/dist.min', 'loader-csv': 'https://cdn.jsdelivr.net/npm/@loaders.gl/csv@3.1.7/dist/dist.min', 'loader-json': 'https://cdn.jsdelivr.net/npm/@loaders.gl/json@3.1.7/dist/dist.min', 'loader-tiles': 'https://cdn.jsdelivr.net/npm/@loaders.gl/3d-tiles@3.1.7/dist/dist.min', 'mapbox-gl': 'https://api.mapbox.com/mapbox-gl-js/v3.0.1/mapbox-gl', 'tabulator': 'https://cdn.jsdelivr.net/npm/tabulator-tables@5.5.0/dist/js/tabulator.min', 'moment': 'https://cdn.jsdelivr.net/npm/luxon/build/global/luxon.min', 'jspanel': 'https://cdn.jsdelivr.net/npm/jspanel4@4.12.0/dist/jspanel', 'jspanel-modal': 'https://cdn.jsdelivr.net/npm/jspanel4@4.12.0/dist/extensions/modal/jspanel.modal', 'jspanel-tooltip': 'https://cdn.jsdelivr.net/npm/jspanel4@4.12.0/dist/extensions/tooltip/jspanel.tooltip', 'jspanel-hint': 'https://cdn.jsdelivr.net/npm/jspanel4@4.12.0/dist/extensions/hint/jspanel.hint', 'jspanel-layout': 'https://cdn.jsdelivr.net/npm/jspanel4@4.12.0/dist/extensions/layout/jspanel.layout', 'jspanel-contextmenu': 'https://cdn.jsdelivr.net/npm/jspanel4@4.12.0/dist/extensions/contextmenu/jspanel.contextmenu', 'jspanel-dock': 'https://cdn.jsdelivr.net/npm/jspanel4@4.12.0/dist/extensions/dock/jspanel.dock', 'gridstack': 'https://cdn.jsdelivr.net/npm/gridstack@7.2.3/dist/gridstack-all', 'notyf': 'https://cdn.jsdelivr.net/npm/notyf@3/notyf.min'}, 'shim': {'deck-json': {'deps': ['deck-gl']}, 'deck-gl': {'deps': ['h3']}, 'jspanel': {'exports': 'jsPanel'}, 'gridstack': {'exports': 'GridStack'}}});\n      require([\"h3\"], function(h3) {\n\twindow.h3 = h3\n\ton_load()\n      })\n      require([\"deck-gl\"], function(deck) {\n\twindow.deck = deck\n\ton_load()\n      })\n      require([\"deck-json\"], function() {\n\ton_load()\n      })\n      require([\"loader-csv\"], function() {\n\ton_load()\n      })\n      require([\"loader-json\"], function() {\n\ton_load()\n      })\n      require([\"loader-tiles\"], function() {\n\ton_load()\n      })\n      require([\"mapbox-gl\"], function(mapboxgl) {\n\twindow.mapboxgl = mapboxgl\n\ton_load()\n      })\n      require([\"tabulator\"], function(Tabulator) {\n\twindow.Tabulator = Tabulator\n\ton_load()\n      })\n      require([\"moment\"], function(moment) {\n\twindow.moment = moment\n\ton_load()\n      })\n      require([\"jspanel\"], function(jsPanel) {\n\twindow.jsPanel = jsPanel\n\ton_load()\n      })\n      require([\"jspanel-modal\"], function() {\n\ton_load()\n      })\n      require([\"jspanel-tooltip\"], function() {\n\ton_load()\n      })\n      require([\"jspanel-hint\"], function() {\n\ton_load()\n      })\n      require([\"jspanel-layout\"], function() {\n\ton_load()\n      })\n      require([\"jspanel-contextmenu\"], function() {\n\ton_load()\n      })\n      require([\"jspanel-dock\"], function() {\n\ton_load()\n      })\n      require([\"gridstack\"], function(GridStack) {\n\twindow.GridStack = GridStack\n\ton_load()\n      })\n      require([\"notyf\"], function() {\n\ton_load()\n      })\n      root._bokeh_is_loading = css_urls.length + 18;\n    } else {\n      root._bokeh_is_loading = css_urls.length + js_urls.length + js_modules.length + Object.keys(js_exports).length;\n    }\n\n    var existing_stylesheets = []\n    var links = document.getElementsByTagName('link')\n    for (var i = 0; i < links.length; i++) {\n      var link = links[i]\n      if (link.href != null) {\n\texisting_stylesheets.push(link.href)\n      }\n    }\n    for (var i = 0; i < css_urls.length; i++) {\n      var url = css_urls[i];\n      if (existing_stylesheets.indexOf(url) !== -1) {\n\ton_load()\n\tcontinue;\n      }\n      const element = document.createElement(\"link\");\n      element.onload = on_load;\n      element.onerror = on_error;\n      element.rel = \"stylesheet\";\n      element.type = \"text/css\";\n      element.href = url;\n      console.debug(\"Bokeh: injecting link tag for BokehJS stylesheet: \", url);\n      document.body.appendChild(element);\n    }    if (((window['deck'] !== undefined) && (!(window['deck'] instanceof HTMLElement))) || window.requirejs) {\n      var urls = ['https://cdn.holoviz.org/panel/1.3.6/dist/bundled/deckglplot/h3-js@3.7.2/dist/h3-js.umd.js', 'https://cdn.holoviz.org/panel/1.3.6/dist/bundled/deckglplot/deck.gl@8.6.7/dist.min.js', 'https://cdn.holoviz.org/panel/1.3.6/dist/bundled/deckglplot/@deck.gl/json@8.6.7/dist.min.js', 'https://cdn.holoviz.org/panel/1.3.6/dist/bundled/deckglplot/@loaders.gl/csv@3.1.7/dist/dist.min.js', 'https://cdn.holoviz.org/panel/1.3.6/dist/bundled/deckglplot/@loaders.gl/json@3.1.7/dist/dist.min.js', 'https://cdn.holoviz.org/panel/1.3.6/dist/bundled/deckglplot/@loaders.gl/3d-tiles@3.1.7/dist/dist.min.js'];\n      for (var i = 0; i < urls.length; i++) {\n        skip.push(urls[i])\n      }\n    }    if (((window['mapboxgl'] !== undefined) && (!(window['mapboxgl'] instanceof HTMLElement))) || window.requirejs) {\n      var urls = ['https://cdn.holoviz.org/panel/1.3.6/dist/bundled/deckglplot/mapbox-gl-js/v3.0.1/mapbox-gl.js'];\n      for (var i = 0; i < urls.length; i++) {\n        skip.push(urls[i])\n      }\n    }    if (((window['Tabulator'] !== undefined) && (!(window['Tabulator'] instanceof HTMLElement))) || window.requirejs) {\n      var urls = ['https://cdn.holoviz.org/panel/1.3.6/dist/bundled/datatabulator/tabulator-tables@5.5.0/dist/js/tabulator.min.js'];\n      for (var i = 0; i < urls.length; i++) {\n        skip.push(urls[i])\n      }\n    }    if (((window['moment'] !== undefined) && (!(window['moment'] instanceof HTMLElement))) || window.requirejs) {\n      var urls = ['https://cdn.holoviz.org/panel/1.3.6/dist/bundled/datatabulator/luxon/build/global/luxon.min.js'];\n      for (var i = 0; i < urls.length; i++) {\n        skip.push(urls[i])\n      }\n    }    if (((window['jsPanel'] !== undefined) && (!(window['jsPanel'] instanceof HTMLElement))) || window.requirejs) {\n      var urls = ['https://cdn.holoviz.org/panel/1.3.6/dist/bundled/floatpanel/jspanel4@4.12.0/dist/jspanel.js', 'https://cdn.holoviz.org/panel/1.3.6/dist/bundled/floatpanel/jspanel4@4.12.0/dist/extensions/modal/jspanel.modal.js', 'https://cdn.holoviz.org/panel/1.3.6/dist/bundled/floatpanel/jspanel4@4.12.0/dist/extensions/tooltip/jspanel.tooltip.js', 'https://cdn.holoviz.org/panel/1.3.6/dist/bundled/floatpanel/jspanel4@4.12.0/dist/extensions/hint/jspanel.hint.js', 'https://cdn.holoviz.org/panel/1.3.6/dist/bundled/floatpanel/jspanel4@4.12.0/dist/extensions/layout/jspanel.layout.js', 'https://cdn.holoviz.org/panel/1.3.6/dist/bundled/floatpanel/jspanel4@4.12.0/dist/extensions/contextmenu/jspanel.contextmenu.js', 'https://cdn.holoviz.org/panel/1.3.6/dist/bundled/floatpanel/jspanel4@4.12.0/dist/extensions/dock/jspanel.dock.js'];\n      for (var i = 0; i < urls.length; i++) {\n        skip.push(urls[i])\n      }\n    }    if (((window['GridStack'] !== undefined) && (!(window['GridStack'] instanceof HTMLElement))) || window.requirejs) {\n      var urls = ['https://cdn.holoviz.org/panel/1.3.6/dist/bundled/gridstack/gridstack@7.2.3/dist/gridstack-all.js'];\n      for (var i = 0; i < urls.length; i++) {\n        skip.push(urls[i])\n      }\n    }    if (((window['Notyf'] !== undefined) && (!(window['Notyf'] instanceof HTMLElement))) || window.requirejs) {\n      var urls = ['https://cdn.holoviz.org/panel/1.3.6/dist/bundled/notificationarea/notyf@3/notyf.min.js'];\n      for (var i = 0; i < urls.length; i++) {\n        skip.push(urls[i])\n      }\n    }    var existing_scripts = []\n    var scripts = document.getElementsByTagName('script')\n    for (var i = 0; i < scripts.length; i++) {\n      var script = scripts[i]\n      if (script.src != null) {\n\texisting_scripts.push(script.src)\n      }\n    }\n    for (var i = 0; i < js_urls.length; i++) {\n      var url = js_urls[i];\n      if (skip.indexOf(url) !== -1 || existing_scripts.indexOf(url) !== -1) {\n\tif (!window.requirejs) {\n\t  on_load();\n\t}\n\tcontinue;\n      }\n      var element = document.createElement('script');\n      element.onload = on_load;\n      element.onerror = on_error;\n      element.async = false;\n      element.src = url;\n      console.debug(\"Bokeh: injecting script tag for BokehJS library: \", url);\n      document.head.appendChild(element);\n    }\n    for (var i = 0; i < js_modules.length; i++) {\n      var url = js_modules[i];\n      if (skip.indexOf(url) !== -1 || existing_scripts.indexOf(url) !== -1) {\n\tif (!window.requirejs) {\n\t  on_load();\n\t}\n\tcontinue;\n      }\n      var element = document.createElement('script');\n      element.onload = on_load;\n      element.onerror = on_error;\n      element.async = false;\n      element.src = url;\n      element.type = \"module\";\n      console.debug(\"Bokeh: injecting script tag for BokehJS library: \", url);\n      document.head.appendChild(element);\n    }\n    for (const name in js_exports) {\n      var url = js_exports[name];\n      if (skip.indexOf(url) >= 0 || root[name] != null) {\n\tif (!window.requirejs) {\n\t  on_load();\n\t}\n\tcontinue;\n      }\n      var element = document.createElement('script');\n      element.onerror = on_error;\n      element.async = false;\n      element.type = \"module\";\n      console.debug(\"Bokeh: injecting script tag for BokehJS library: \", url);\n      element.textContent = `\n      import ${name} from \"${url}\"\n      window.${name} = ${name}\n      window._bokeh_on_load()\n      `\n      document.head.appendChild(element);\n    }\n    if (!js_urls.length && !js_modules.length) {\n      on_load()\n    }\n  };\n\n  function inject_raw_css(css) {\n    const element = document.createElement(\"style\");\n    element.appendChild(document.createTextNode(css));\n    document.body.appendChild(element);\n  }\n\n  var js_urls = [\"https://cdn.holoviz.org/panel/1.3.6/dist/bundled/deckglplot/h3-js@3.7.2/dist/h3-js.umd.js\", \"https://cdn.holoviz.org/panel/1.3.6/dist/bundled/deckglplot/deck.gl@8.6.7/dist.min.js\", \"https://cdn.holoviz.org/panel/1.3.6/dist/bundled/deckglplot/@deck.gl/json@8.6.7/dist.min.js\", \"https://cdn.holoviz.org/panel/1.3.6/dist/bundled/deckglplot/@loaders.gl/csv@3.1.7/dist/dist.min.js\", \"https://cdn.holoviz.org/panel/1.3.6/dist/bundled/deckglplot/@loaders.gl/json@3.1.7/dist/dist.min.js\", \"https://cdn.holoviz.org/panel/1.3.6/dist/bundled/deckglplot/@loaders.gl/3d-tiles@3.1.7/dist/dist.min.js\", \"https://cdn.holoviz.org/panel/1.3.6/dist/bundled/deckglplot/mapbox-gl-js/v3.0.1/mapbox-gl.js\", \"https://cdn.holoviz.org/panel/1.3.6/dist/bundled/datatabulator/tabulator-tables@5.5.0/dist/js/tabulator.min.js\", \"https://cdn.holoviz.org/panel/1.3.6/dist/bundled/datatabulator/luxon/build/global/luxon.min.js\"];\n  var js_modules = [];\n  var js_exports = {};\n  var css_urls = [\"https://cdn.holoviz.org/panel/1.3.6/dist/bundled/deckglplot/mapbox-gl-js/v3.0.1/mapbox-gl.css\", \"https://cdn.holoviz.org/panel/1.3.6/dist/bundled/datatabulator/tabulator-tables@5.5.0/dist/css/tabulator_simple.min.css\"];\n  var inline_js = [    function(Bokeh) {\n      Bokeh.set_log_level(\"info\");\n    },\nfunction(Bokeh) {} // ensure no trailing comma for IE\n  ];\n\n  function run_inline_js() {\n    if ((root.Bokeh !== undefined) || (force === true)) {\n      for (var i = 0; i < inline_js.length; i++) {\n\ttry {\n          inline_js[i].call(root, root.Bokeh);\n\t} catch(e) {\n\t  if (!reloading) {\n\t    throw e;\n\t  }\n\t}\n      }\n      // Cache old bokeh versions\n      if (Bokeh != undefined && !reloading) {\n\tvar NewBokeh = root.Bokeh;\n\tif (Bokeh.versions === undefined) {\n\t  Bokeh.versions = new Map();\n\t}\n\tif (NewBokeh.version !== Bokeh.version) {\n\t  Bokeh.versions.set(NewBokeh.version, NewBokeh)\n\t}\n\troot.Bokeh = Bokeh;\n      }} else if (Date.now() < root._bokeh_timeout) {\n      setTimeout(run_inline_js, 100);\n    } else if (!root._bokeh_failed_load) {\n      console.log(\"Bokeh: BokehJS failed to load within specified timeout.\");\n      root._bokeh_failed_load = true;\n    }\n    root._bokeh_is_initializing = false\n  }\n\n  function load_or_wait() {\n    // Implement a backoff loop that tries to ensure we do not load multiple\n    // versions of Bokeh and its dependencies at the same time.\n    // In recent versions we use the root._bokeh_is_initializing flag\n    // to determine whether there is an ongoing attempt to initialize\n    // bokeh, however for backward compatibility we also try to ensure\n    // that we do not start loading a newer (Panel>=1.0 and Bokeh>3) version\n    // before older versions are fully initialized.\n    if (root._bokeh_is_initializing && Date.now() > root._bokeh_timeout) {\n      root._bokeh_is_initializing = false;\n      root._bokeh_onload_callbacks = undefined;\n      console.log(\"Bokeh: BokehJS was loaded multiple times but one version failed to initialize.\");\n      load_or_wait();\n    } else if (root._bokeh_is_initializing || (typeof root._bokeh_is_initializing === \"undefined\" && root._bokeh_onload_callbacks !== undefined)) {\n      setTimeout(load_or_wait, 100);\n    } else {\n      root._bokeh_is_initializing = true\n      root._bokeh_onload_callbacks = []\n      var bokeh_loaded = Bokeh != null && (Bokeh.version === py_version || (Bokeh.versions !== undefined && Bokeh.versions.has(py_version)));\n      if (!reloading && !bokeh_loaded) {\n\troot.Bokeh = undefined;\n      }\n      load_libs(css_urls, js_urls, js_modules, js_exports, function() {\n\tconsole.debug(\"Bokeh: BokehJS plotting callback run at\", now());\n\trun_inline_js();\n      });\n    }\n  }\n  // Give older versions of the autoload script a head-start to ensure\n  // they initialize before we start loading newer version.\n  setTimeout(load_or_wait, 100)\n}(window));",
      "application/vnd.holoviews_load.v0+json": ""
     },
     "metadata": {},
     "output_type": "display_data"
    },
    {
     "data": {
      "application/javascript": "\nif ((window.PyViz === undefined) || (window.PyViz instanceof HTMLElement)) {\n  window.PyViz = {comms: {}, comm_status:{}, kernels:{}, receivers: {}, plot_index: []}\n}\n\n\n    function JupyterCommManager() {\n    }\n\n    JupyterCommManager.prototype.register_target = function(plot_id, comm_id, msg_handler) {\n      if (window.comm_manager || ((window.Jupyter !== undefined) && (Jupyter.notebook.kernel != null))) {\n        var comm_manager = window.comm_manager || Jupyter.notebook.kernel.comm_manager;\n        comm_manager.register_target(comm_id, function(comm) {\n          comm.on_msg(msg_handler);\n        });\n      } else if ((plot_id in window.PyViz.kernels) && (window.PyViz.kernels[plot_id])) {\n        window.PyViz.kernels[plot_id].registerCommTarget(comm_id, function(comm) {\n          comm.onMsg = msg_handler;\n        });\n      } else if (typeof google != 'undefined' && google.colab.kernel != null) {\n        google.colab.kernel.comms.registerTarget(comm_id, (comm) => {\n          var messages = comm.messages[Symbol.asyncIterator]();\n          function processIteratorResult(result) {\n            var message = result.value;\n            console.log(message)\n            var content = {data: message.data, comm_id};\n            var buffers = []\n            for (var buffer of message.buffers || []) {\n              buffers.push(new DataView(buffer))\n            }\n            var metadata = message.metadata || {};\n            var msg = {content, buffers, metadata}\n            msg_handler(msg);\n            return messages.next().then(processIteratorResult);\n          }\n          return messages.next().then(processIteratorResult);\n        })\n      }\n    }\n\n    JupyterCommManager.prototype.get_client_comm = function(plot_id, comm_id, msg_handler) {\n      if (comm_id in window.PyViz.comms) {\n        return window.PyViz.comms[comm_id];\n      } else if (window.comm_manager || ((window.Jupyter !== undefined) && (Jupyter.notebook.kernel != null))) {\n        var comm_manager = window.comm_manager || Jupyter.notebook.kernel.comm_manager;\n        var comm = comm_manager.new_comm(comm_id, {}, {}, {}, comm_id);\n        if (msg_handler) {\n          comm.on_msg(msg_handler);\n        }\n      } else if ((plot_id in window.PyViz.kernels) && (window.PyViz.kernels[plot_id])) {\n        var comm = window.PyViz.kernels[plot_id].connectToComm(comm_id);\n        comm.open();\n        if (msg_handler) {\n          comm.onMsg = msg_handler;\n        }\n      } else if (typeof google != 'undefined' && google.colab.kernel != null) {\n        var comm_promise = google.colab.kernel.comms.open(comm_id)\n        comm_promise.then((comm) => {\n          window.PyViz.comms[comm_id] = comm;\n          if (msg_handler) {\n            var messages = comm.messages[Symbol.asyncIterator]();\n            function processIteratorResult(result) {\n              var message = result.value;\n              var content = {data: message.data};\n              var metadata = message.metadata || {comm_id};\n              var msg = {content, metadata}\n              msg_handler(msg);\n              return messages.next().then(processIteratorResult);\n            }\n            return messages.next().then(processIteratorResult);\n          }\n        }) \n        var sendClosure = (data, metadata, buffers, disposeOnDone) => {\n          return comm_promise.then((comm) => {\n            comm.send(data, metadata, buffers, disposeOnDone);\n          });\n        };\n        var comm = {\n          send: sendClosure\n        };\n      }\n      window.PyViz.comms[comm_id] = comm;\n      return comm;\n    }\n    window.PyViz.comm_manager = new JupyterCommManager();\n    \n\n\nvar JS_MIME_TYPE = 'application/javascript';\nvar HTML_MIME_TYPE = 'text/html';\nvar EXEC_MIME_TYPE = 'application/vnd.holoviews_exec.v0+json';\nvar CLASS_NAME = 'output';\n\n/**\n * Render data to the DOM node\n */\nfunction render(props, node) {\n  var div = document.createElement(\"div\");\n  var script = document.createElement(\"script\");\n  node.appendChild(div);\n  node.appendChild(script);\n}\n\n/**\n * Handle when a new output is added\n */\nfunction handle_add_output(event, handle) {\n  var output_area = handle.output_area;\n  var output = handle.output;\n  if ((output.data == undefined) || (!output.data.hasOwnProperty(EXEC_MIME_TYPE))) {\n    return\n  }\n  var id = output.metadata[EXEC_MIME_TYPE][\"id\"];\n  var toinsert = output_area.element.find(\".\" + CLASS_NAME.split(' ')[0]);\n  if (id !== undefined) {\n    var nchildren = toinsert.length;\n    var html_node = toinsert[nchildren-1].children[0];\n    html_node.innerHTML = output.data[HTML_MIME_TYPE];\n    var scripts = [];\n    var nodelist = html_node.querySelectorAll(\"script\");\n    for (var i in nodelist) {\n      if (nodelist.hasOwnProperty(i)) {\n        scripts.push(nodelist[i])\n      }\n    }\n\n    scripts.forEach( function (oldScript) {\n      var newScript = document.createElement(\"script\");\n      var attrs = [];\n      var nodemap = oldScript.attributes;\n      for (var j in nodemap) {\n        if (nodemap.hasOwnProperty(j)) {\n          attrs.push(nodemap[j])\n        }\n      }\n      attrs.forEach(function(attr) { newScript.setAttribute(attr.name, attr.value) });\n      newScript.appendChild(document.createTextNode(oldScript.innerHTML));\n      oldScript.parentNode.replaceChild(newScript, oldScript);\n    });\n    if (JS_MIME_TYPE in output.data) {\n      toinsert[nchildren-1].children[1].textContent = output.data[JS_MIME_TYPE];\n    }\n    output_area._hv_plot_id = id;\n    if ((window.Bokeh !== undefined) && (id in Bokeh.index)) {\n      window.PyViz.plot_index[id] = Bokeh.index[id];\n    } else {\n      window.PyViz.plot_index[id] = null;\n    }\n  } else if (output.metadata[EXEC_MIME_TYPE][\"server_id\"] !== undefined) {\n    var bk_div = document.createElement(\"div\");\n    bk_div.innerHTML = output.data[HTML_MIME_TYPE];\n    var script_attrs = bk_div.children[0].attributes;\n    for (var i = 0; i < script_attrs.length; i++) {\n      toinsert[toinsert.length - 1].childNodes[1].setAttribute(script_attrs[i].name, script_attrs[i].value);\n    }\n    // store reference to server id on output_area\n    output_area._bokeh_server_id = output.metadata[EXEC_MIME_TYPE][\"server_id\"];\n  }\n}\n\n/**\n * Handle when an output is cleared or removed\n */\nfunction handle_clear_output(event, handle) {\n  var id = handle.cell.output_area._hv_plot_id;\n  var server_id = handle.cell.output_area._bokeh_server_id;\n  if (((id === undefined) || !(id in PyViz.plot_index)) && (server_id !== undefined)) { return; }\n  var comm = window.PyViz.comm_manager.get_client_comm(\"hv-extension-comm\", \"hv-extension-comm\", function () {});\n  if (server_id !== null) {\n    comm.send({event_type: 'server_delete', 'id': server_id});\n    return;\n  } else if (comm !== null) {\n    comm.send({event_type: 'delete', 'id': id});\n  }\n  delete PyViz.plot_index[id];\n  if ((window.Bokeh !== undefined) & (id in window.Bokeh.index)) {\n    var doc = window.Bokeh.index[id].model.document\n    doc.clear();\n    const i = window.Bokeh.documents.indexOf(doc);\n    if (i > -1) {\n      window.Bokeh.documents.splice(i, 1);\n    }\n  }\n}\n\n/**\n * Handle kernel restart event\n */\nfunction handle_kernel_cleanup(event, handle) {\n  delete PyViz.comms[\"hv-extension-comm\"];\n  window.PyViz.plot_index = {}\n}\n\n/**\n * Handle update_display_data messages\n */\nfunction handle_update_output(event, handle) {\n  handle_clear_output(event, {cell: {output_area: handle.output_area}})\n  handle_add_output(event, handle)\n}\n\nfunction register_renderer(events, OutputArea) {\n  function append_mime(data, metadata, element) {\n    // create a DOM node to render to\n    var toinsert = this.create_output_subarea(\n    metadata,\n    CLASS_NAME,\n    EXEC_MIME_TYPE\n    );\n    this.keyboard_manager.register_events(toinsert);\n    // Render to node\n    var props = {data: data, metadata: metadata[EXEC_MIME_TYPE]};\n    render(props, toinsert[0]);\n    element.append(toinsert);\n    return toinsert\n  }\n\n  events.on('output_added.OutputArea', handle_add_output);\n  events.on('output_updated.OutputArea', handle_update_output);\n  events.on('clear_output.CodeCell', handle_clear_output);\n  events.on('delete.Cell', handle_clear_output);\n  events.on('kernel_ready.Kernel', handle_kernel_cleanup);\n\n  OutputArea.prototype.register_mime_type(EXEC_MIME_TYPE, append_mime, {\n    safe: true,\n    index: 0\n  });\n}\n\nif (window.Jupyter !== undefined) {\n  try {\n    var events = require('base/js/events');\n    var OutputArea = require('notebook/js/outputarea').OutputArea;\n    if (OutputArea.prototype.mime_types().indexOf(EXEC_MIME_TYPE) == -1) {\n      register_renderer(events, OutputArea);\n    }\n  } catch(err) {\n  }\n}\n",
      "application/vnd.holoviews_load.v0+json": ""
     },
     "metadata": {},
     "output_type": "display_data"
    },
    {
     "data": {
      "text/html": [
       "<style>*[data-root-id],\n",
       "*[data-root-id] > * {\n",
       "  box-sizing: border-box;\n",
       "  font-family: var(--jp-ui-font-family);\n",
       "  font-size: var(--jp-ui-font-size1);\n",
       "  color: var(--vscode-editor-foreground, var(--jp-ui-font-color1));\n",
       "}\n",
       "\n",
       "/* Override VSCode background color */\n",
       ".cell-output-ipywidget-background:has(\n",
       "    > .cell-output-ipywidget-background > .lm-Widget > *[data-root-id]\n",
       "  ),\n",
       ".cell-output-ipywidget-background:has(> .lm-Widget > *[data-root-id]) {\n",
       "  background-color: transparent !important;\n",
       "}\n",
       "</style>"
      ]
     },
     "metadata": {},
     "output_type": "display_data"
    }
   ],
   "source": [
    "import panel as pn\n",
    "import pydeck as pdk\n",
    "pn.extension('deckgl')\n",
    "pn.extension('tabulator')"
   ]
  },
  {
   "cell_type": "code",
   "execution_count": 3,
   "id": "7e3310b5",
   "metadata": {},
   "outputs": [],
   "source": [
    "import pydeck as pdk\n",
    "\n",
    "CLIMATE_TRACE_DATA = assets[['Name', 'longitude', 'latitude', \"co2\"]]\n",
    "\n",
    "# Define a layer to display on a map\n",
    "layer = pdk.Layer(\n",
    "    'HexagonLayer',\n",
    "    CLIMATE_TRACE_DATA,\n",
    "    get_position=['longitude', 'latitude'],\n",
    "    # get_elevation=\"co2\",\n",
    "    # get_tooltip=\"Name: {Name}\",\n",
    "    auto_highlight=True,\n",
    "    elevation_scale=50,\n",
    "    pickable=True,\n",
    "    elevation_range=[0, 3000],\n",
    "    extruded=True,                 \n",
    "    coverage=1)\n",
    "\n",
    "# Set the viewport location\n",
    "view_state = pdk.ViewState(\n",
    "    longitude=-120.415,\n",
    "    latitude=37.2323,\n",
    "    zoom=5,  # lower number is seeing from higher\n",
    "    min_zoom=3,\n",
    "    max_zoom=15,\n",
    "    pitch=40.5,\n",
    "    # bearing=-27.36)\n",
    "    bearing=-0.36)\n",
    "\n",
    "# Render\n",
    "deck = pdk.Deck(layers=[layer], initial_view_state=view_state)\n",
    "# deck.to_html('./dashboards/demo_standalone.html')\n",
    "\n",
    "# NOTE: doesn't require the mapbox API key. "
   ]
  },
  {
   "cell_type": "code",
   "execution_count": 4,
   "id": "39fbefb3",
   "metadata": {},
   "outputs": [
    {
     "data": {
      "application/vnd.jupyter.widget-view+json": {
       "model_id": "1bde3ae1e0234b0698a3dd3811351e8a",
       "version_major": 2,
       "version_minor": 0
      },
      "text/plain": [
       "BokehModel(combine_events=True, render_bundle={'docs_json': {'aeccd0c6-5807-405a-a638-a8752050371d': {'version…"
      ]
     },
     "execution_count": 4,
     "metadata": {},
     "output_type": "execute_result"
    }
   ],
   "source": [
    "# Build box_assets\n",
    "box_assets = pn.indicators.Number(name=\"Emitting assets\", value=len(assets), font_size='15pt', default_color='#3498db')\n",
    "box_assets"
   ]
  },
  {
   "cell_type": "code",
   "execution_count": 5,
   "id": "ac51371e",
   "metadata": {},
   "outputs": [
    {
     "data": {
      "application/vnd.jupyter.widget-view+json": {
       "model_id": "af8895b198ec43a68b4a151bd93c3006",
       "version_major": 2,
       "version_minor": 0
      },
      "text/plain": [
       "BokehModel(combine_events=True, render_bundle={'docs_json': {'2f33b72f-2cca-4209-b9c6-d181dc0ab37b': {'version…"
      ]
     },
     "execution_count": 5,
     "metadata": {},
     "output_type": "execute_result"
    }
   ],
   "source": [
    "# Build box_emissions\n",
    "import humanize\n",
    "# def format_nb(value):\n",
    "#     return f\"{value:.2%}\"\n",
    "#emissions = humanize.intword(inputs['assets']['co2'].sum())\n",
    "emissions = assets['co2'].sum()\n",
    "#box_emissions = pn.indicators.Number(name=\"Carbon Emissions Total\", value=emissions, format=\"{,.2f}\") # doesn't work\n",
    "box_emissions = pn.indicators.Number(name=\"Carbon Emissions\", value=emissions, format=\"{value:,.0f}\", font_size='15pt', default_color='#3498db') # works\n",
    "# box_emissions = pn.indicators.Number(name=\"Carbon Emissions Total\", value=emissions, format=format_nb) # doesn't work\n",
    "box_emissions"
   ]
  },
  {
   "cell_type": "code",
   "execution_count": 6,
   "id": "d0337aab",
   "metadata": {},
   "outputs": [
    {
     "data": {
      "application/vnd.jupyter.widget-view+json": {
       "model_id": "c50a0e16e89c4ae6bf62617acddf209a",
       "version_major": 2,
       "version_minor": 0
      },
      "text/plain": [
       "BokehModel(combine_events=True, render_bundle={'docs_json': {'0640bbba-7f5a-4d67-94f1-2a6d318294d7': {'version…"
      ]
     },
     "execution_count": 6,
     "metadata": {},
     "output_type": "execute_result"
    }
   ],
   "source": [
    "# Build table\n",
    "tableUI = pn.widgets.Tabulator(assets[['Name', 'co2', 'Sector', 'AssetType', 'latitude', 'longitude', 'Thumbnail_post']], height=200, sizing_mode=\"stretch_width\")\n",
    "tableUI"
   ]
  },
  {
   "cell_type": "code",
   "execution_count": 7,
   "id": "c52cfd5e",
   "metadata": {},
   "outputs": [],
   "source": [
    "# Content\n",
    "\n",
    "content_row0 = pn.panel(\"Climate Trace Dashboard\", align=\"center\", styles={\"background-color\": \"#3498db\", \"color\": \"white\", \"width\": \"100%\"})\n",
    "content_row1 = pn.pane.Markdown(\"This shows carbon emissions associated to specific locations (assets) in California. \\nThis is Work In Progress ! Demo only...\")\n",
    "content_row2_column1_row1 = pn.pane.DeckGL(deck.to_json(), sizing_mode='stretch_width', height=500)\n",
    "content_row2_column1_row2 = pn.pane.Markdown(\"Pan and zoom in map above\")\n",
    "content_row2_column2_row1 = pn.pane.Markdown(\"General Metrics\")\n",
    "content_row2_column2_row2 = box_assets\n",
    "content_row2_column2_row3 = box_emissions\n",
    "content_row3 = pn.pane.Markdown(\"#### List of emitting assets\")\n",
    "content_row4 = tableUI\n",
    "content_row5 = pn.panel(\"Footer\", align=\"center\", styles={\"background-color\": \"#3498db\", \"color\": \"white\", \"width\": \"100%\"})\n"
   ]
  },
  {
   "cell_type": "code",
   "execution_count": 8,
   "id": "aeb0433c",
   "metadata": {},
   "outputs": [
    {
     "data": {
      "application/vnd.jupyter.widget-view+json": {
       "model_id": "3cad894fedbc4941b454a59f2552b6a4",
       "version_major": 2,
       "version_minor": 0
      },
      "text/plain": [
       "BokehModel(combine_events=True, render_bundle={'docs_json': {'53553fec-4b55-417c-bebc-ea6cc9835e7c': {'version…"
      ]
     },
     "execution_count": 8,
     "metadata": {},
     "output_type": "execute_result"
    }
   ],
   "source": [
    "# Layout\n",
    "# Read from the bottom of code to the top to understand the dashboard from top to bottom \n",
    "dash_row2_column1 = pn.Column(content_row2_column1_row1, content_row2_column1_row2)\n",
    "dash_row2_column2 = pn.Column(content_row2_column2_row1, content_row2_column2_row2, content_row2_column2_row3)\n",
    "dash_row2 = pn.Row(dash_row2_column1, dash_row2_column2)\n",
    "dash = pn.Column(content_row0, content_row1, dash_row2, content_row3, content_row4, content_row5, sizing_mode=\"stretch_both\")\n",
    "dash.servable()\n",
    "dash  # to display it\n",
    "# dash.show() # to open in browser"
   ]
  },
  {
   "cell_type": "code",
   "execution_count": null,
   "id": "f6825a0f",
   "metadata": {},
   "outputs": [
    {
     "name": "stderr",
     "output_type": "stream",
     "text": [
      "|13:44:33:INFO:bokeh.server.server|Starting Bokeh server version 3.3.2 (running on Tornado 6.2)\n",
      "|13:44:33:INFO:bokeh.server.tornado|User authentication hooks NOT provided (default user enabled)\n"
     ]
    },
    {
     "name": "stdout",
     "output_type": "stream",
     "text": [
      "Launching server at http://localhost:52753\n"
     ]
    },
    {
     "data": {
      "text/plain": [
       "<panel.io.server.Server at 0x1244d01c0>"
      ]
     },
     "execution_count": 9,
     "metadata": {},
     "output_type": "execute_result"
    },
    {
     "name": "stderr",
     "output_type": "stream",
     "text": [
      "|13:44:33:INFO:tornado.access|200 GET / (::1) 121.95ms\n",
      "INFO:tornado.access:200 GET / (::1) 121.95ms\n",
      "|13:44:33:INFO:tornado.access|200 GET /static/extensions/panel/bundled/deckglplot/mapbox-gl-js/v3.0.1/mapbox-gl.css (::1) 2.30ms\n",
      "INFO:tornado.access:200 GET /static/extensions/panel/bundled/deckglplot/mapbox-gl-js/v3.0.1/mapbox-gl.css (::1) 2.30ms\n",
      "|13:44:33:INFO:tornado.access|200 GET /static/extensions/panel/bundled/deckglplot/@loaders.gl/json@3.1.7/dist/dist.min.js (::1) 2.56ms\n",
      "INFO:tornado.access:200 GET /static/extensions/panel/bundled/deckglplot/@loaders.gl/json@3.1.7/dist/dist.min.js (::1) 2.56ms\n",
      "|13:44:33:INFO:tornado.access|200 GET /static/extensions/panel/bundled/deckglplot/@loaders.gl/csv@3.1.7/dist/dist.min.js (::1) 5.07ms\n",
      "INFO:tornado.access:200 GET /static/extensions/panel/bundled/deckglplot/@loaders.gl/csv@3.1.7/dist/dist.min.js (::1) 5.07ms\n",
      "|13:44:33:INFO:tornado.access|200 GET /static/extensions/panel/bundled/deckglplot/@loaders.gl/3d-tiles@3.1.7/dist/dist.min.js (::1) 3.66ms\n",
      "INFO:tornado.access:200 GET /static/extensions/panel/bundled/deckglplot/@loaders.gl/3d-tiles@3.1.7/dist/dist.min.js (::1) 3.66ms\n",
      "|13:44:33:INFO:tornado.access|200 GET /static/extensions/panel/bundled/deckglplot/mapbox-gl-js/v3.0.1/mapbox-gl.js (::1) 15.66ms\n",
      "INFO:tornado.access:200 GET /static/extensions/panel/bundled/deckglplot/mapbox-gl-js/v3.0.1/mapbox-gl.js (::1) 15.66ms\n",
      "INFO:tornado.access:200 GET /static/extensions/panel/bundled/datatabulator/tabulator-tables@5.5.0/dist/css/tabulator_simple.min.css (::1) 22.80ms\n",
      "|13:44:33:INFO:tornado.access|200 GET /static/extensions/panel/bundled/datatabulator/tabulator-tables@5.5.0/dist/css/tabulator_simple.min.css (::1) 22.80ms\n",
      "|13:44:33:INFO:tornado.access|200 GET /static/extensions/panel/bundled/deckglplot/h3-js@3.7.2/dist/h3-js.umd.js (::1) 29.21ms\n",
      "INFO:tornado.access:200 GET /static/extensions/panel/bundled/deckglplot/h3-js@3.7.2/dist/h3-js.umd.js (::1) 29.21ms\n",
      "|13:44:33:INFO:tornado.access|200 GET /static/extensions/panel/bundled/deckglplot/@deck.gl/json@8.6.7/dist.min.js (::1) 47.22ms\n",
      "INFO:tornado.access:200 GET /static/extensions/panel/bundled/deckglplot/@deck.gl/json@8.6.7/dist.min.js (::1) 47.22ms\n",
      "|13:44:33:INFO:tornado.access|200 GET /static/extensions/panel/bundled/datatabulator/tabulator-tables@5.5.0/dist/js/tabulator.min.js (::1) 4.13ms\n",
      "INFO:tornado.access:200 GET /static/extensions/panel/bundled/datatabulator/tabulator-tables@5.5.0/dist/js/tabulator.min.js (::1) 4.13ms\n",
      "|13:44:33:INFO:tornado.access|200 GET /static/extensions/panel/bundled/datatabulator/luxon/build/global/luxon.min.js (::1) 6.54ms\n",
      "INFO:tornado.access:200 GET /static/extensions/panel/bundled/datatabulator/luxon/build/global/luxon.min.js (::1) 6.54ms\n",
      "|13:44:33:INFO:tornado.access|200 GET /static/js/bokeh-gl.min.js?v=4e0336f86fcb6dada342f8e6422c888290dbde6d19c7c34e010fc3c0d87f9d0942e13cb0f2ffc78ac589f41e623dc4f14fcec2bfefa935a92683eb62b31d7856 (::1) 8.65ms\n",
      "INFO:tornado.access:200 GET /static/js/bokeh-gl.min.js?v=4e0336f86fcb6dada342f8e6422c888290dbde6d19c7c34e010fc3c0d87f9d0942e13cb0f2ffc78ac589f41e623dc4f14fcec2bfefa935a92683eb62b31d7856 (::1) 8.65ms\n",
      "|13:44:33:INFO:tornado.access|200 GET /static/js/bokeh.min.js?v=34a99574497c635a73371dbe4023914976d2d9ceebcd07f10f5b3c05e1905c363597591a50087e787c91e7fb63ede3256af217d51c6420935f3b14e615d4d53a (::1) 11.43ms\n",
      "INFO:tornado.access:200 GET /static/js/bokeh.min.js?v=34a99574497c635a73371dbe4023914976d2d9ceebcd07f10f5b3c05e1905c363597591a50087e787c91e7fb63ede3256af217d51c6420935f3b14e615d4d53a (::1) 11.43ms\n",
      "|13:44:33:INFO:tornado.access|200 GET /static/js/bokeh-widgets.min.js?v=16d20410b89198f4b4eaf585fb0c9f18997afdbcc1040a894bb1a7786044d4d364c4c996f1e7b652b77660e98bf0b27550d79425389d405a50c4fb0f4c3477b2 (::1) 13.61ms\n",
      "INFO:tornado.access:200 GET /static/js/bokeh-widgets.min.js?v=16d20410b89198f4b4eaf585fb0c9f18997afdbcc1040a894bb1a7786044d4d364c4c996f1e7b652b77660e98bf0b27550d79425389d405a50c4fb0f4c3477b2 (::1) 13.61ms\n",
      "|13:44:33:INFO:tornado.access|200 GET /static/extensions/panel/bundled/deckglplot/deck.gl@8.6.7/dist.min.js (::1) 68.78ms\n",
      "INFO:tornado.access:200 GET /static/extensions/panel/bundled/deckglplot/deck.gl@8.6.7/dist.min.js (::1) 68.78ms\n",
      "|13:44:33:INFO:tornado.access|200 GET /static/js/bokeh-tables.min.js?v=cf4d356e4048bf099520db0fe30c6466e01d18c3d6e45607f424e480742085fc0b7dbc612785a40cd485b9f5609e476fe94cc4b2d0337ecef07475a46bf1ab1a (::1) 1.80ms\n",
      "INFO:tornado.access:200 GET /static/js/bokeh-tables.min.js?v=cf4d356e4048bf099520db0fe30c6466e01d18c3d6e45607f424e480742085fc0b7dbc612785a40cd485b9f5609e476fe94cc4b2d0337ecef07475a46bf1ab1a (::1) 1.80ms\n",
      "|13:44:33:INFO:tornado.access|200 GET /static/extensions/panel/panel.min.js?v=813b231f281e55d9af5ea2364998b4d88d5d8c59158214c140f2d0f812d36d5d (::1) 12.90ms\n",
      "INFO:tornado.access:200 GET /static/extensions/panel/panel.min.js?v=813b231f281e55d9af5ea2364998b4d88d5d8c59158214c140f2d0f812d36d5d (::1) 12.90ms\n",
      "|13:44:34:INFO:tornado.access|200 GET /static/extensions/panel/images/favicon.ico (::1) 4.40ms\n",
      "INFO:tornado.access:200 GET /static/extensions/panel/images/favicon.ico (::1) 4.40ms\n",
      "|13:44:34:INFO:tornado.access|101 GET /ws (::1) 0.73ms\n",
      "INFO:tornado.access:101 GET /ws (::1) 0.73ms\n",
      "|13:44:34:INFO:bokeh.server.views.ws|WebSocket connection opened\n",
      "|13:44:34:INFO:bokeh.server.views.ws|ServerConnection created\n",
      "|13:44:35:INFO:tornado.access|200 GET /static/extensions/panel/css/loading.css?v=1.3.6 (::1) 2.26ms\n",
      "INFO:tornado.access:200 GET /static/extensions/panel/css/loading.css?v=1.3.6 (::1) 2.26ms\n",
      "|13:44:35:INFO:tornado.access|200 GET /static/extensions/panel/css/markdown.css?v=1.3.6 (::1) 3.00ms\n",
      "INFO:tornado.access:200 GET /static/extensions/panel/css/markdown.css?v=1.3.6 (::1) 3.00ms\n",
      "|13:44:35:INFO:tornado.access|200 GET /static/extensions/panel/bundled/deckglplot/mapbox-gl-js/v3.0.1/mapbox-gl.css?v=1.3.6 (::1) 5.41ms\n",
      "INFO:tornado.access:200 GET /static/extensions/panel/bundled/deckglplot/mapbox-gl-js/v3.0.1/mapbox-gl.css?v=1.3.6 (::1) 5.41ms\n",
      "|13:44:35:INFO:tornado.access|200 GET /static/extensions/panel/bundled/font-awesome/css/all.min.css?v=1.3.6 (::1) 10.32ms\n",
      "INFO:tornado.access:200 GET /static/extensions/panel/bundled/font-awesome/css/all.min.css?v=1.3.6 (::1) 10.32ms\n",
      "|13:44:35:INFO:tornado.access|200 GET /static/extensions/panel/css/listpanel.css?v=1.3.6 (::1) 4.24ms\n",
      "INFO:tornado.access:200 GET /static/extensions/panel/css/listpanel.css?v=1.3.6 (::1) 4.24ms\n",
      "|13:44:35:INFO:tornado.access|200 GET /static/extensions/panel/bundled/datatabulator/tabulator-tables@5.5.0/dist/css/tabulator_simple.min.css?v=1.3.6 (::1) 9.08ms\n",
      "INFO:tornado.access:200 GET /static/extensions/panel/bundled/datatabulator/tabulator-tables@5.5.0/dist/css/tabulator_simple.min.css?v=1.3.6 (::1) 9.08ms\n",
      "|13:44:35:INFO:tornado.access|200 GET /static/extensions/panel/bundled/theme/default.css?v=1.3.6 (::1) 8.47ms\n",
      "INFO:tornado.access:200 GET /static/extensions/panel/bundled/theme/default.css?v=1.3.6 (::1) 8.47ms\n",
      "|13:44:35:INFO:tornado.access|200 GET /static/extensions/panel/bundled/theme/native.css?v=1.3.6 (::1) 11.32ms\n",
      "INFO:tornado.access:200 GET /static/extensions/panel/bundled/theme/native.css?v=1.3.6 (::1) 11.32ms\n"
     ]
    }
   ],
   "source": [
    "dash.show() # to open in browser"
   ]
  },
  {
   "cell_type": "code",
   "execution_count": null,
   "id": "8e5d61c8",
   "metadata": {},
   "outputs": [],
   "source": []
  }
 ],
 "metadata": {
  "kernelspec": {
   "display_name": "Python 3",
   "language": "python",
   "name": "python3"
  },
  "language_info": {
   "codemirror_mode": {
    "name": "ipython",
    "version": 3
   },
   "file_extension": ".py",
   "mimetype": "text/x-python",
   "name": "python",
   "nbconvert_exporter": "python",
   "pygments_lexer": "ipython3",
   "version": "3.10.0"
  }
 },
 "nbformat": 4,
 "nbformat_minor": 5
}
